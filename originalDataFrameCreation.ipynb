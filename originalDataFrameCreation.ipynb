{
 "cells": [
  {
   "cell_type": "markdown",
   "metadata": {},
   "source": [
    "### Load Data"
   ]
  },
  {
   "cell_type": "code",
   "execution_count": 6,
   "metadata": {
    "pycharm": {
     "is_executing": false
    }
   },
   "outputs": [
    {
     "name": "stdout",
     "text": [
      "Requirement already satisfied: chefboost in c:\\users\\alexg\\appdata\\local\\programs\\python\\python38-32\\lib\\site-packages (0.0.11)\n",
      "Requirement already satisfied: psutil>=5.4.3 in c:\\users\\alexg\\appdata\\local\\programs\\python\\python38-32\\lib\\site-packages (from chefboost) (5.8.0)\n",
      "Requirement already satisfied: tqdm>=4.30.0 in c:\\users\\alexg\\appdata\\local\\programs\\python\\python38-32\\lib\\site-packages (from chefboost) (4.58.0)\n",
      "Requirement already satisfied: numpy>=1.14.0 in c:\\users\\alexg\\appdata\\local\\programs\\python\\python38-32\\lib\\site-packages (from chefboost) (1.17.4)\n",
      "Requirement already satisfied: pandas>=0.22.0 in c:\\users\\alexg\\appdata\\local\\programs\\python\\python38-32\\lib\\site-packages (from chefboost) (0.25.3)\n",
      "Requirement already satisfied: pytz>=2017.2 in c:\\users\\alexg\\appdata\\local\\programs\\python\\python38-32\\lib\\site-packages (from pandas>=0.22.0->chefboost) (2019.3)\n",
      "Requirement already satisfied: python-dateutil>=2.6.1 in c:\\users\\alexg\\appdata\\local\\programs\\python\\python38-32\\lib\\site-packages (from pandas>=0.22.0->chefboost) (2.8.1)\n",
      "Requirement already satisfied: six>=1.5 in c:\\users\\alexg\\appdata\\local\\programs\\python\\python38-32\\lib\\site-packages (from python-dateutil>=2.6.1->pandas>=0.22.0->chefboost) (1.13.0)\n"
     ],
     "output_type": "stream"
    },
    {
     "data": {
      "text/plain": "  android.intent.action.MAIN android.permission.ACCESS_NETWORK_STATE  \\\n0                       True                                    True   \n1                       True                                    True   \n2                       True                                    True   \n3                       True                                    True   \n4                       True                                    True   \n\n  APK file uses system-level passive monitoring  \\\n0                                          True   \n1                                          True   \n2                                         False   \n3                                          True   \n4                                          True   \n\n  APK file matches a known malware family behavioral profile  \\\n0                                              False           \n1                                              False           \n2                                              False           \n3                                              False           \n4                                              False           \n\n  android.permission.WRITE_EXTERNAL_STORAGE  \\\n0                                      True   \n1                                      True   \n2                                      True   \n3                                      True   \n4                                      True   \n\n  APK file uses the Java Reflection API APK file calls sensitive API methods  \\\n0                                  True                                 True   \n1                                  True                                 True   \n2                                  True                                 True   \n3                                  True                                 True   \n4                                  True                                 True   \n\n  android/net/ConnectivityManager;->getActiveNetworkInfo  \\\n0                                               True       \n1                                               True       \n2                                               True       \n3                                               True       \n4                                               True       \n\n  java/net/URL;->openConnection android/webkit/WebView;-><init>  ...  \\\n0                          True                            True  ...   \n1                          True                            True  ...   \n2                          True                           False  ...   \n3                          True                            True  ...   \n4                          True                            True  ...   \n\n  com.millennialmedia.android.MMActivity android/view/View;->startDrag  \\\n0                                  False                         False   \n1                                  False                         False   \n2                                  False                         False   \n3                                  False                         False   \n4                                  False                         False   \n\n  java/net/URL;->getContent android.permission.PACKAGE_USAGE_STATS  \\\n0                     False                                  False   \n1                     False                                  False   \n2                     False                                  False   \n3                     False                                  False   \n4                     False                                   True   \n\n  android/net/wifi/WifiManager;->removeNetwork  \\\n0                                        False   \n1                                        False   \n2                                        False   \n3                                        False   \n4                                        False   \n\n  android.service.notification.NotificationListenerService  \\\n0                                              False         \n1                                              False         \n2                                              False         \n3                                              False         \n4                                               True         \n\n  com.android.alarm.permission.SET_ALARM com.google.ads.AdActivity  \\\n0                                  False                     False   \n1                                  False                     False   \n2                                  False                     False   \n3                                  False                     False   \n4                                  False                     False   \n\n  android.intent.action.PACKAGE_INSTALL Decision  \n0                                 False       no  \n1                                 False       no  \n2                                 False       no  \n3                                 False       no  \n4                                 False       no  \n\n[5 rows x 423 columns]",
      "text/html": "<div>\n<style scoped>\n    .dataframe tbody tr th:only-of-type {\n        vertical-align: middle;\n    }\n\n    .dataframe tbody tr th {\n        vertical-align: top;\n    }\n\n    .dataframe thead th {\n        text-align: right;\n    }\n</style>\n<table border=\"1\" class=\"dataframe\">\n  <thead>\n    <tr style=\"text-align: right;\">\n      <th></th>\n      <th>android.intent.action.MAIN</th>\n      <th>android.permission.ACCESS_NETWORK_STATE</th>\n      <th>APK file uses system-level passive monitoring</th>\n      <th>APK file matches a known malware family behavioral profile</th>\n      <th>android.permission.WRITE_EXTERNAL_STORAGE</th>\n      <th>APK file uses the Java Reflection API</th>\n      <th>APK file calls sensitive API methods</th>\n      <th>android/net/ConnectivityManager;-&gt;getActiveNetworkInfo</th>\n      <th>java/net/URL;-&gt;openConnection</th>\n      <th>android/webkit/WebView;-&gt;&lt;init&gt;</th>\n      <th>...</th>\n      <th>com.millennialmedia.android.MMActivity</th>\n      <th>android/view/View;-&gt;startDrag</th>\n      <th>java/net/URL;-&gt;getContent</th>\n      <th>android.permission.PACKAGE_USAGE_STATS</th>\n      <th>android/net/wifi/WifiManager;-&gt;removeNetwork</th>\n      <th>android.service.notification.NotificationListenerService</th>\n      <th>com.android.alarm.permission.SET_ALARM</th>\n      <th>com.google.ads.AdActivity</th>\n      <th>android.intent.action.PACKAGE_INSTALL</th>\n      <th>Decision</th>\n    </tr>\n  </thead>\n  <tbody>\n    <tr>\n      <th>0</th>\n      <td>True</td>\n      <td>True</td>\n      <td>True</td>\n      <td>False</td>\n      <td>True</td>\n      <td>True</td>\n      <td>True</td>\n      <td>True</td>\n      <td>True</td>\n      <td>True</td>\n      <td>...</td>\n      <td>False</td>\n      <td>False</td>\n      <td>False</td>\n      <td>False</td>\n      <td>False</td>\n      <td>False</td>\n      <td>False</td>\n      <td>False</td>\n      <td>False</td>\n      <td>no</td>\n    </tr>\n    <tr>\n      <th>1</th>\n      <td>True</td>\n      <td>True</td>\n      <td>True</td>\n      <td>False</td>\n      <td>True</td>\n      <td>True</td>\n      <td>True</td>\n      <td>True</td>\n      <td>True</td>\n      <td>True</td>\n      <td>...</td>\n      <td>False</td>\n      <td>False</td>\n      <td>False</td>\n      <td>False</td>\n      <td>False</td>\n      <td>False</td>\n      <td>False</td>\n      <td>False</td>\n      <td>False</td>\n      <td>no</td>\n    </tr>\n    <tr>\n      <th>2</th>\n      <td>True</td>\n      <td>True</td>\n      <td>False</td>\n      <td>False</td>\n      <td>True</td>\n      <td>True</td>\n      <td>True</td>\n      <td>True</td>\n      <td>True</td>\n      <td>False</td>\n      <td>...</td>\n      <td>False</td>\n      <td>False</td>\n      <td>False</td>\n      <td>False</td>\n      <td>False</td>\n      <td>False</td>\n      <td>False</td>\n      <td>False</td>\n      <td>False</td>\n      <td>no</td>\n    </tr>\n    <tr>\n      <th>3</th>\n      <td>True</td>\n      <td>True</td>\n      <td>True</td>\n      <td>False</td>\n      <td>True</td>\n      <td>True</td>\n      <td>True</td>\n      <td>True</td>\n      <td>True</td>\n      <td>True</td>\n      <td>...</td>\n      <td>False</td>\n      <td>False</td>\n      <td>False</td>\n      <td>False</td>\n      <td>False</td>\n      <td>False</td>\n      <td>False</td>\n      <td>False</td>\n      <td>False</td>\n      <td>no</td>\n    </tr>\n    <tr>\n      <th>4</th>\n      <td>True</td>\n      <td>True</td>\n      <td>True</td>\n      <td>False</td>\n      <td>True</td>\n      <td>True</td>\n      <td>True</td>\n      <td>True</td>\n      <td>True</td>\n      <td>True</td>\n      <td>...</td>\n      <td>False</td>\n      <td>False</td>\n      <td>False</td>\n      <td>True</td>\n      <td>False</td>\n      <td>True</td>\n      <td>False</td>\n      <td>False</td>\n      <td>False</td>\n      <td>no</td>\n    </tr>\n  </tbody>\n</table>\n<p>5 rows × 423 columns</p>\n</div>"
     },
     "metadata": {},
     "output_type": "execute_result",
     "execution_count": 6
    }
   ],
   "source": [
    "import pandas as pd\n",
    "import numpy as np\n",
    "import os\n",
    "import sys\n",
    "!{sys.executable} -m pip install chefboost\n",
    "sys.path.insert(0, r'D:\\android study\\output\\\\' )\n",
    "from FeatureVectorExtractor import FeatureVectorExtractor\n",
    "\n",
    "\n",
    "\n",
    "\n"
   ]
  },
  {
   "cell_type": "code",
   "execution_count": 11,
   "metadata": {
    "pycharm": {
     "name": "#%%\n",
     "is_executing": false
    }
   },
   "outputs": [],
   "source": [
    "#load features\n",
    "selected_features = pd.read_csv(r'D:\\android study\\output\\selectedFeatures.csv').values.tolist()\n",
    "\n",
    "sf = []\n",
    "for f in selected_features:\n",
    "    sf.append(f[0])\n",
    "\n",
    "#load apk hashes\n",
    "apk_hashes = pd.read_csv(r'D:\\android study\\output\\hashes.csv').values.tolist()\n",
    "\n",
    "ah = []\n",
    "for h in apk_hashes:\n",
    "    ah.append(h[0])\n",
    "    \n",
    "    \n",
    "def createDataFrame( SHA256List, featureVectorParams):\n",
    "    dataDicts = []\n",
    "    for apk in SHA256List:\n",
    "        try:\n",
    "            fve = FeatureVectorExtractor(apk, featureVectorParams)\n",
    "            featureVectorDict = fve.ExtractFeatureVector()\n",
    "            featureVectorDict['Decision'] = fve.ExtractLabel()\n",
    "            dataDicts.append(featureVectorDict)\n",
    "        except Exception:\n",
    "            continue\n",
    "    featureVectorsArray = np.array([list(vector.values()) for vector in dataDicts])\n",
    "    returndf = pd.DataFrame(featureVectorsArray, columns = dataDicts[0].keys())\n",
    "    return returndf\n",
    "result_df = createDataFrame(ah, sf)\n",
    "dfwithoutna = result_df.dropna()\n",
    "dfwithoutna.to_csv('dfwithoutNA.csv', index=False)\n",
    "\n",
    "\n",
    "\n"
   ]
  },
  {
   "cell_type": "code",
   "execution_count": null,
   "outputs": [],
   "source": [
    "\n",
    "apk_hashes = pd.read_csv(r'dfwithoutNA.csv')\n",
    "\n",
    "apk_hashes.dropna(axis=0, inplace=True)\n",
    "\n",
    "apk_hashes.head()"
   ],
   "metadata": {
    "collapsed": false,
    "pycharm": {
     "name": "#%%\n",
     "is_executing": true
    }
   }
  }
 ],
 "metadata": {
  "kernelspec": {
   "name": "python3",
   "language": "python",
   "display_name": "Python 3"
  },
  "language_info": {
   "codemirror_mode": {
    "name": "ipython",
    "version": 2
   },
   "file_extension": ".py",
   "mimetype": "text/x-python",
   "name": "python",
   "nbconvert_exporter": "python",
   "pygments_lexer": "ipython2",
   "version": "2.7.14"
  },
  "pycharm": {
   "stem_cell": {
    "cell_type": "raw",
    "source": [],
    "metadata": {
     "collapsed": false
    }
   }
  }
 },
 "nbformat": 4,
 "nbformat_minor": 2
}