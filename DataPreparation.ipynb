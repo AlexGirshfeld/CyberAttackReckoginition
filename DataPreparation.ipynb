{
 "cells": [
  {
   "cell_type": "markdown",
   "metadata": {},
   "source": [
    "### Load Data"
   ]
  },
  {
   "cell_type": "code",
   "execution_count": 66,
   "metadata": {},
   "outputs": [
    {
     "data": {
      "text/plain": [
       "feature\n",
       "android.permission.INTERNET                                                     1720.0\n",
       "android.intent.action.MAIN                                                      1695.0\n",
       "android.permission.ACCESS_NETWORK_STATE                                         1688.0\n",
       "APK file uses system-level passive monitoring                                   1662.0\n",
       "APK file matches a known malware family behavioral profile                      1660.0\n",
       "android.permission.WRITE_EXTERNAL_STORAGE                                       1650.0\n",
       "APK file uses the Java Reflection API                                           1645.0\n",
       "APK file calls sensitive API methods                                            1531.0\n",
       "android/net/ConnectivityManager;->getActiveNetworkInfo                          1460.0\n",
       "java/net/URL;->openConnection                                                   1445.0\n",
       "android/webkit/WebView;-><init>                                                 1252.0\n",
       "APK file communicates over a network socket                                     1232.0\n",
       "APK file source code contains a hard-coded URL                                  1196.0\n",
       "android.intent.action.BOOT_COMPLETED                                            1139.0\n",
       "APK file listens for boot-completed events                                      1139.0\n",
       "java/net/HttpURLConnection;->connect                                            1127.0\n",
       "android.net.conn.CONNECTIVITY_CHANGE                                            1077.0\n",
       "APK file has the ability to install other APK files                             1060.0\n",
       "APK file contains source code with dangerous shell commands                     1004.0\n",
       "android.permission.READ_PHONE_STATE                                              980.0\n",
       "android.permission.ACCESS_WIFI_STATE                                             978.0\n",
       "APK file connected to a URL                                                      914.0\n",
       "android.permission.WAKE_LOCK                                                     857.0\n",
       "APK file is obfuscated                                                           856.0\n",
       "APK file requires permissions that should not be claimed by third-party apps     835.0\n",
       "APK file accessed device specific information                                    819.0\n",
       "android/content/pm/PackageManager;->setComponentEnabledSetting                   818.0\n",
       "APK file collects information about running tasks                                804.0\n",
       "android/app/DownloadManager;->enqueue                                            772.0\n",
       "android.permission.GET_TASKS                                                     764.0\n",
       "                                                                                 ...  \n",
       "APK file is signed by an unexpected certificate                                   59.0\n",
       "com.sec.android.provider.badge.permission.READ                                    59.0\n",
       "com.sec.android.provider.badge.permission.WRITE                                   59.0\n",
       "android.permission.WRITE_CALENDAR                                                 59.0\n",
       "APK file sent location information to a remote website                            59.0\n",
       "Android Universal Image Loader (Generic Library)                                  58.0\n",
       "APK file records video                                                            58.0\n",
       "com.google.android.gms.analytics.AnalyticsReceiver                                58.0\n",
       "APK file records audio                                                            58.0\n",
       "android/content/ContentResolver;->setMasterSyncAutomatically                      57.0\n",
       "android.intent.action.TIME_SET                                                    56.0\n",
       "com.sec.spp.push.receiver.ForceUpdateAlarmReceiver                                56.0\n",
       "android/app/WallpaperManager;->setStream                                          56.0\n",
       "com.android.browser.permission.WRITE_HISTORY_BOOKMARKS                            56.0\n",
       "APK file queries SMS contents                                                     56.0\n",
       "APK file traverses all SMS messages in the inbox                                  56.0\n",
       "com.sonyericsson.home.permission.BROADCAST_BADGE                                  55.0\n",
       "com.google.android.gms.gcm.GcmReceiver                                            55.0\n",
       "APK file is defective and could not be installed                                  54.0\n",
       "com.revmob.FullscreenActivity                                                     54.0\n",
       "com.huawei.android.launcher.permission.READ_SETTINGS                              53.0\n",
       "com.millennialmedia.android.MMActivity                                            53.0\n",
       "android/view/View;->startDrag                                                     53.0\n",
       "java/net/URL;->getContent                                                         52.0\n",
       "android.permission.PACKAGE_USAGE_STATS                                            52.0\n",
       "android/net/wifi/WifiManager;->removeNetwork                                      52.0\n",
       "android.service.notification.NotificationListenerService                          51.0\n",
       "com.android.alarm.permission.SET_ALARM                                            51.0\n",
       "com.google.ads.AdActivity                                                         51.0\n",
       "android.intent.action.PACKAGE_INSTALL                                             51.0\n",
       "Length: 423, dtype: float64"
      ]
     },
     "execution_count": 66,
     "metadata": {},
     "output_type": "execute_result"
    }
   ],
   "source": [
    "import pandas as pd\n",
    "import numpy as np\n",
    "import os\n",
    "import sys\n",
    "\n",
    "#load features csv file and sort features\n",
    "features_df = pd.read_csv('features.csv')\n",
    "features_df\n",
    "dups_sorted  = features_df.pivot_table(index=['feature'], aggfunc='size').sort_values(ascending=False)\n",
    "\n",
    "#remove feature under 5% occurrences - in our case 1000 * 5%  =   50 (1000 benign, 1000 malware)\n",
    "filtered_features = pd.Series(sort_list).where(lambda x : x > 50).dropna()\n",
    "filtered_features"
   ]
  },
  {
   "cell_type": "code",
   "execution_count": 67,
   "metadata": {},
   "outputs": [
    {
     "name": "stderr",
     "output_type": "stream",
     "text": [
      "C:\\ProgramData\\Anaconda2\\lib\\site-packages\\ipykernel_launcher.py:7: FutureWarning: The signature of `Series.to_csv` was aligned to that of `DataFrame.to_csv`, and argument 'header' will change its default value from False to True: please pass an explicit value to suppress this warning.\n",
      "  import sys\n"
     ]
    }
   ],
   "source": [
    "#generate new feature DF:\n",
    "feature_list = filtered_features.index.to_list()\n",
    "occurrences = list(filtered_features.values)\n",
    "feature_dict = {'Feature':feature_list,'Count':occurrences}\n",
    "feature_agg_df = pd.DataFrame(feature_dict)\n",
    "feature_agg_df\n",
    "feature_agg_df[\"Feature\"].to_csv(\"selectedFeatures.csv\", index=False)\n",
    "\n"
   ]
  },
  {
   "cell_type": "code",
   "execution_count": null,
   "metadata": {
    "collapsed": true
   },
   "outputs": [],
   "source": []
  }
 ],
 "metadata": {
  "kernelspec": {
   "display_name": "Python 2",
   "language": "python",
   "name": "python2"
  },
  "language_info": {
   "codemirror_mode": {
    "name": "ipython",
    "version": 2
   },
   "file_extension": ".py",
   "mimetype": "text/x-python",
   "name": "python",
   "nbconvert_exporter": "python",
   "pygments_lexer": "ipython2",
   "version": "2.7.14"
  },
  "pycharm": {
   "stem_cell": {
    "cell_type": "raw",
    "source": [],
    "metadata": {
     "collapsed": false
    }
   }
  }
 },
 "nbformat": 4,
 "nbformat_minor": 2
}